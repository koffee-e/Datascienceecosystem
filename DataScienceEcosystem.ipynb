{
 "cells": [
  {
   "cell_type": "markdown",
   "id": "97172e11-e42e-4fed-b78c-fb1e6b1b0b10",
   "metadata": {},
   "source": [
    "# Data Science Tools and Ecosystem"
   ]
  },
  {
   "cell_type": "markdown",
   "id": "2fbe2025-cd3f-4f16-a7bb-2941866a87dc",
   "metadata": {},
   "source": [
    "In this notebook, Data Science Tools and Ecosystem are summarized."
   ]
  },
  {
   "cell_type": "markdown",
   "id": "190d3d00-06fd-447a-9282-648ddf917bfe",
   "metadata": {},
   "source": [
    "**Objectives:**\n",
    "- List popular languages for Data Science\n",
    "- List some of the commonly used libraries used by Data Scientists\n",
    "- List some of the popular Data Science Tools"
   ]
  },
  {
   "cell_type": "markdown",
   "id": "f6290352-000b-4d6b-833d-3edab3c25ee0",
   "metadata": {},
   "source": [
    "Some of the popular languages that Data Scientists use are:\n",
    "\n",
    "1. R\n",
    "2. Python\n",
    "3. SQL"
   ]
  },
  {
   "cell_type": "markdown",
   "id": "c40f5787-eddf-4078-be4e-ae2936e7d34a",
   "metadata": {},
   "source": [
    "Some of the commonly used libraries used by Data Scientists include:\n",
    "1. Matplotlib\n",
    "2. Numpy\n",
    "3. ggplot"
   ]
  },
  {
   "cell_type": "markdown",
   "id": "1e04c9a3-4981-4da2-9f62-28cd3090f8fe",
   "metadata": {},
   "source": [
    "|Data Science Tools|\n",
    "|-----------------|\n",
    "|Anaconda Navigator| \n",
    "|Rstudio| \n",
    "|visual studio code| "
   ]
  },
  {
   "cell_type": "markdown",
   "id": "420b1f45-edcd-485a-9980-474a3263d3e4",
   "metadata": {},
   "source": [
    "### Below are a few examples of evaluating arithmetic expressions in Python"
   ]
  },
  {
   "cell_type": "code",
   "execution_count": 8,
   "id": "bfe887a5-883d-414e-a439-2c7f347f5812",
   "metadata": {},
   "outputs": [
    {
     "data": {
      "text/plain": [
       "17"
      ]
     },
     "execution_count": 8,
     "metadata": {},
     "output_type": "execute_result"
    }
   ],
   "source": [
    "#This a simple arithmetic expression to mutiply then add integers\n",
    "(3*4)+5"
   ]
  },
  {
   "cell_type": "code",
   "execution_count": 9,
   "id": "78558e05-90c7-4039-b4ad-6e751cf697d8",
   "metadata": {},
   "outputs": [
    {
     "name": "stdout",
     "output_type": "stream",
     "text": [
      "3.3333333333333335\n"
     ]
    }
   ],
   "source": [
    "#This will convert 200 minutes to hours by diving by 60\n",
    "t_min=200\n",
    "t_hr=200/60\n",
    "print(t_hr)"
   ]
  },
  {
   "cell_type": "markdown",
   "id": "93e404ab-4ac4-4e36-9684-e92d5154f3c9",
   "metadata": {},
   "source": [
    "## Author\n",
    "Soham Goud"
   ]
  },
  {
   "cell_type": "code",
   "execution_count": null,
   "id": "d4511f84-87c2-49f6-96c8-7f68328e24d7",
   "metadata": {},
   "outputs": [],
   "source": []
  }
 ],
 "metadata": {
  "kernelspec": {
   "display_name": "Python 3 (ipykernel)",
   "language": "python",
   "name": "python3"
  },
  "language_info": {
   "codemirror_mode": {
    "name": "ipython",
    "version": 3
   },
   "file_extension": ".py",
   "mimetype": "text/x-python",
   "name": "python",
   "nbconvert_exporter": "python",
   "pygments_lexer": "ipython3",
   "version": "3.12.7"
  }
 },
 "nbformat": 4,
 "nbformat_minor": 5
}
